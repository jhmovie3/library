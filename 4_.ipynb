{
 "cells": [
  {
   "cell_type": "code",
   "execution_count": 28,
   "metadata": {},
   "outputs": [],
   "source": [
    "import re\n",
    "from konlpy.tag import Mecab"
   ]
  },
  {
   "cell_type": "code",
   "execution_count": 29,
   "metadata": {},
   "outputs": [
    {
     "name": "stdout",
     "output_type": "stream",
     "text": [
      "[('미국', 'NNP'), ('에서', 'JKB'), ('얀센', 'NNP'), ('백신', 'NNG'), ('부스터', 'NNG'), ('샷', 'NNG'), ('(', 'SSO'), ('추가', 'NNG'), ('접종', 'NNG'), (')', 'SSC')]\n"
     ]
    }
   ],
   "source": [
    "text = '''미국에서 얀센 백신 부스터 샷(추가접종)을 서둘러야 한다는 전문가 주장이 나오고 있다고 외신들이 보도했다. 시간이 지나면서 얀센 백신의 예방 효과가 급격히 떨어지는 게 확인되고 있기 때문이다. 얀센은 다른 백신과 달리 한 번 접종으로 완료되지만, 사실은 두 번 맞아야 하는 백신이라는 지적까지 나온다.\n",
    "뉴욕포스트는 지난 16일 “전문가들은 얀센 백신을 접종한 이들에게 가능한 한 빨리 부스터 샷을 접종할 것을 촉구한다”고 전했다. 매체에 따르면 애시시 자 브라운대 공중보건학장은 CNN 인터뷰에서 “이 백신(얀센)은 아마도 두 번 접종해야 하는 백신일 것”이라며 “두 번째 백신을 빨리 맞히는 것이 시급하다”고 주장했다.\n",
    "CNN은 미 식품의약국(FDA) 백신·생물의약품자문위원회(VRBPAC) 위원이자 질병통제예방센터(CDC) 고위 의료책임자인 아만다 콘 박사를 인용해 “다양한 연구에서 얀센 백신의 실제 효능은 50~68%”라며 “얀센 백신의 1회 접종 효과는 2차례 접종하는 mRNA(메신저 리보핵산) 백신 보호 효과와 동등하지 않다”고도 전했다.'''\n",
    "mecab = Mecab()\n",
    "print(mecab.pos(text)[:10])"
   ]
  },
  {
   "cell_type": "code",
   "execution_count": 30,
   "metadata": {},
   "outputs": [
    {
     "data": {
      "text/plain": [
       "['미국', '얀센', '백신', '부스터', '샷']"
      ]
     },
     "execution_count": 30,
     "metadata": {},
     "output_type": "execute_result"
    }
   ],
   "source": [
    "mecab.nouns(text)[:5]"
   ]
  },
  {
   "cell_type": "markdown",
   "metadata": {},
   "source": [
    "명사만 뽑아달라"
   ]
  },
  {
   "cell_type": "code",
   "execution_count": 31,
   "metadata": {},
   "outputs": [
    {
     "data": {
      "text/plain": [
       "['미국', '에서', '얀센', '백신', '부스터']"
      ]
     },
     "execution_count": 31,
     "metadata": {},
     "output_type": "execute_result"
    }
   ],
   "source": [
    "mecab.morphs(text)[:5]"
   ]
  },
  {
   "cell_type": "markdown",
   "metadata": {},
   "source": [
    "형태소만을 뽑아달라"
   ]
  },
  {
   "cell_type": "code",
   "execution_count": 32,
   "metadata": {},
   "outputs": [
    {
     "data": {
      "text/plain": [
       "{'EC': '연결 어미',\n",
       " 'EF': '종결 어미',\n",
       " 'EP': '선어말어미',\n",
       " 'ETM': '관형형 전성 어미',\n",
       " 'ETN': '명사형 전성 어미',\n",
       " 'IC': '감탄사',\n",
       " 'JC': '접속 조사',\n",
       " 'JKB': '부사격 조사',\n",
       " 'JKC': '보격 조사',\n",
       " 'JKG': '관형격 조사',\n",
       " 'JKO': '목적격 조사',\n",
       " 'JKQ': '인용격 조사',\n",
       " 'JKS': '주격 조사',\n",
       " 'JKV': '호격 조사',\n",
       " 'JX': '보조사',\n",
       " 'MAG': '일반 부사',\n",
       " 'MAJ': '접속 부사',\n",
       " 'MM': '관형사',\n",
       " 'NNB': '의존 명사',\n",
       " 'NNBC': '단위를 나타내는 명사',\n",
       " 'NNG': '일반 명사',\n",
       " 'NNP': '고유 명사',\n",
       " 'NP': '대명사',\n",
       " 'NR': '수사',\n",
       " 'SC': '구분자 , · / :',\n",
       " 'SE': '줄임표 …',\n",
       " 'SF': '마침표, 물음표, 느낌표',\n",
       " 'SH': '한자',\n",
       " 'SL': '외국어',\n",
       " 'SN': '숫자',\n",
       " 'SSC': '닫는 괄호 ), ]',\n",
       " 'SSO': '여는 괄호 (, [',\n",
       " 'SY': '기타 기호',\n",
       " 'VA': '형용사',\n",
       " 'VCN': '부정 지정사',\n",
       " 'VCP': '긍정 지정사',\n",
       " 'VV': '동사',\n",
       " 'VX': '보조 용언',\n",
       " 'XPN': '체언 접두사',\n",
       " 'XR': '어근',\n",
       " 'XSA': '형용사 파생 접미사',\n",
       " 'XSN': '명사파생 접미사',\n",
       " 'XSV': '동사 파생 접미사'}"
      ]
     },
     "execution_count": 32,
     "metadata": {},
     "output_type": "execute_result"
    }
   ],
   "source": [
    "mecab.tagset\n"
   ]
  },
  {
   "cell_type": "code",
   "execution_count": 33,
   "metadata": {},
   "outputs": [
    {
     "name": "stdout",
     "output_type": "stream",
     "text": [
      "['미국', '얀센', '백신', '부스터', '추가', '접종', '전문가', '주장', '외신', '보도', '얀센', '백신', '예방', '효과', '확인', '때문', '얀센', '백신', '접종', '완료', '백신', '지적', '뉴욕', '포스트', '전문가', '얀센', '백신', '접종', '가능', '부스터', '접종', '촉구', '매체', '브라운', '공중', '보건', '학장', '백신', '얀센', '접종', '백신', '백신', '주장', '식품', '약국', '백신', '생물', '의약품', '자문', '위원회', '위원', '질병', '통제', '예방', '센터', '고위', '의료', '책임자', '아만다', '박사', '인용', '다양', '연구', '얀센', '백신', '효능', '얀센', '백신', '접종', '효과', '차례', '접종', '메신저', '리보', '핵산', '백신', '보호', '효과', '동등']\n"
     ]
    }
   ],
   "source": [
    "def tokenizer(text):\n",
    "    nouns = mecab.nouns(text)\n",
    "    keyword = [noun for noun in nouns if len(noun) > 1]\n",
    "    valueToBeRemoved = ['시간','인터뷰','실제']\n",
    "    for ex in valueToBeRemoved:\n",
    "        keyword.remove(ex)\n",
    "    return keyword\n",
    "\n",
    "words = tokenizer(text)\n",
    "print(words)"
   ]
  },
  {
   "cell_type": "code",
   "execution_count": 34,
   "metadata": {},
   "outputs": [],
   "source": [
    "def 임시방편(text):\n",
    "    return [word[:2] for word in text.split() if len(word) > 1]\n"
   ]
  }
 ],
 "metadata": {
  "interpreter": {
   "hash": "bb384131a306e257a2f2f536c8c84a077f9d4eb81c82c98c02b413d8c8c18ef0"
  },
  "kernelspec": {
   "display_name": "Python 3.7.11 64-bit ('py37-64': conda)",
   "name": "python3"
  },
  "language_info": {
   "codemirror_mode": {
    "name": "ipython",
    "version": 3
   },
   "file_extension": ".py",
   "mimetype": "text/x-python",
   "name": "python",
   "nbconvert_exporter": "python",
   "pygments_lexer": "ipython3",
   "version": "3.7.11"
  },
  "orig_nbformat": 4
 },
 "nbformat": 4,
 "nbformat_minor": 2
}
