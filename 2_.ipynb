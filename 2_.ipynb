{
 "cells": [
  {
   "cell_type": "code",
   "execution_count": 13,
   "metadata": {},
   "outputs": [
    {
     "name": "stdout",
     "output_type": "stream",
     "text": [
      "<class 're.Pattern'>\n",
      "<re.Match object; span=(0, 5), match='hello'>\n",
      "['hello', 'hello']\n",
      "<re.Match object; span=(0, 5), match='hello'>\n"
     ]
    }
   ],
   "source": [
    "import re\n",
    "reg = re.compile(r'hello')\n",
    "\n",
    "text='hello world hello python'\n",
    "print(type(reg))\n",
    "print(reg.search(text)) #처음 탐색된 정보만 출력\n",
    "print(reg.findall(text))\n",
    "print(reg.match(text)) #문자열 내 특정표현 전부매칭과 맨앞에 있을경우"
   ]
  },
  {
   "cell_type": "markdown",
   "metadata": {},
   "source": [
    "정규표현식 제작(regex)"
   ]
  },
  {
   "cell_type": "code",
   "execution_count": 9,
   "metadata": {},
   "outputs": [
    {
     "name": "stdout",
     "output_type": "stream",
     "text": [
      "do you wanna bulid the python program?\n"
     ]
    }
   ],
   "source": [
    "reg=re.compile(r'snowman')\n",
    "text='do you wanna bulid the snowman?'\n",
    "print(reg.sub('python program',text))"
   ]
  },
  {
   "cell_type": "code",
   "execution_count": 17,
   "metadata": {},
   "outputs": [
    {
     "data": {
      "text/plain": [
       "'오늘은 2020년 9월 23일 이다.'"
      ]
     },
     "execution_count": 17,
     "metadata": {},
     "output_type": "execute_result"
    }
   ],
   "source": [
    "'''()=서브패턴 소괄호 내 문자를 문자패턴으로 간주함 ex)color 또는 colour 둘다 매치하려면 col(o|ou)r\n",
    "단,반복을 나타내는 부호는 \\d,\\W 와 같은 메타문자(역할있는 문자)를 성질을 유지한채로 반복\n",
    "\\d=[0-9] {2}=앞문자 2번반복 \n",
    "[년/]='년/'가진 문자열찾기 \n",
    "\\s=공백 \n",
    "*({0,})=반복(앞에 있는 문자 반복하는 것 찾기) \n",
    "?({0,1})=있어도되고 없어도된다. \n",
    "+({1,})=한번 이상 반복하면 된다.'''\n",
    "reg=re.compile(r\"(20\\d{2})[-년/]\\s*(\\d{1,2})[-월/]\\s*(\\d{1,2})일?\")\n",
    "text='오늘은 2020/9/23 이다.'\n",
    "'''()로 grouping된 서브패턴들의 이름이 \\1(첫번째 서브패턴),\\2,\\3\n",
    "이다. 따라서 \\1년 =2020년 \\2월=9월 \\3일=23일로 바뀐다.\n",
    "'''\n",
    "reg.sub(r'\\1년 \\2월 \\3일',text)"
   ]
  },
  {
   "cell_type": "markdown",
   "metadata": {},
   "source": [
    "sub-특정표현을 탐색 후 해당표현을 다른 표현으로 치환"
   ]
  },
  {
   "cell_type": "code",
   "execution_count": 18,
   "metadata": {},
   "outputs": [
    {
     "name": "stdout",
     "output_type": "stream",
     "text": [
      "['hi', 'python!', 'incizor! hello! hello?']\n",
      "['hi', 'python! hello incizor! hello! hello?']\n",
      "['hi', 'python!', 'incizor! hello! hello?']\n",
      "['hi', 'python!', 'incizor! hello! hello?']\n"
     ]
    }
   ],
   "source": [
    "reg=re.compile(r'\\s*hello\\s+')\n",
    "text='hi hello python! hello incizor! hello! hello?'\n",
    "print(reg.split(text))\n",
    "print(reg.split(text,1)) #정규표현식 1번만 사용하여 쪼갬\n",
    "print(reg.split(text,2))\n",
    "print(reg.split(text,3))"
   ]
  }
 ],
 "metadata": {
  "interpreter": {
   "hash": "bb384131a306e257a2f2f536c8c84a077f9d4eb81c82c98c02b413d8c8c18ef0"
  },
  "kernelspec": {
   "display_name": "Python 3.7.11 64-bit ('py37-64': conda)",
   "name": "python3"
  },
  "language_info": {
   "codemirror_mode": {
    "name": "ipython",
    "version": 3
   },
   "file_extension": ".py",
   "mimetype": "text/x-python",
   "name": "python",
   "nbconvert_exporter": "python",
   "pygments_lexer": "ipython3",
   "version": "3.7.11"
  },
  "orig_nbformat": 4
 },
 "nbformat": 4,
 "nbformat_minor": 2
}
